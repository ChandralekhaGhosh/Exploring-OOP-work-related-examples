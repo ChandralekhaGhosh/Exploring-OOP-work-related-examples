{
 "cells": [
  {
   "cell_type": "markdown",
   "id": "ad6667d1",
   "metadata": {},
   "source": [
    "#### OOP with Practical example\n",
    "I've tried to practice different OOP concepts by applying them to practical problems.\n",
    "\n",
    "As I work in media audit & analytics, my job is to keep track of Cost Per Unit Delivery for multiple Digital platforms (  like, Facebook, Google, etc.)  to evaluate their performances, I have tried to apply the OOP concept in my field of work.\n",
    "\n",
    "Before looking into the code, request you to kindly have a look into the basic metrics that I use to evaluate the digital channel's performances.\n",
    "\n",
    "CPU-Cost Per Unit Deliveries\n",
    "Types of deliveries: Number of leads, number of clicks, number of impressions, number of views, etc.\n",
    "\n",
    "Types of basic CPU:\n",
    "\n",
    "* Cost Per Lead =Spend/Number of Leads\n",
    "* CPC- Cost Per Lead =Spend/Number of Clicks\n",
    "* CPM- Cost Per Lead =Spend/Number of Impressions*1000\n",
    "* CPV- Cost Per Lead =Spend/Number of Views\n",
    "\n",
    "Thank You!\n",
    "\n"
   ]
  },
  {
   "cell_type": "markdown",
   "id": "067e77b5",
   "metadata": {},
   "source": [
    "##### 1) My example of Polymorphism\n",
    "\n",
    "###### using Cost Per Impression (CPM) formula which is a common metric for evaluating Google and Facebook performance"
   ]
  },
  {
   "cell_type": "code",
   "execution_count": 29,
   "id": "861153c6",
   "metadata": {},
   "outputs": [],
   "source": [
    "class Google:\n",
    "            \n",
    "    def CPM(self,spends, num_imp):\n",
    "        CPM=spends/num_imp*1000\n",
    "        return CPM\n",
    "   \n",
    "    \n",
    "class Facebook:\n",
    "            \n",
    "    def CPM(self,spends, num_imp):\n",
    "        CPM=spends/num_imp*1000\n",
    "        return CPM\n",
    "    \n",
    "# method CPM is being used in both the places, to calculate Cost Per Impressions for Google & Fb  "
   ]
  },
  {
   "cell_type": "code",
   "execution_count": 30,
   "id": "49b70b6c",
   "metadata": {},
   "outputs": [],
   "source": [
    "G=Google()\n",
    "F=Facebook()"
   ]
  },
  {
   "cell_type": "code",
   "execution_count": 31,
   "id": "4ac28b5b",
   "metadata": {},
   "outputs": [
    {
     "data": {
      "text/plain": [
       "500000.0"
      ]
     },
     "execution_count": 31,
     "metadata": {},
     "output_type": "execute_result"
    }
   ],
   "source": [
    "G.CPM(100000,200)"
   ]
  },
  {
   "cell_type": "markdown",
   "id": "fbc79b13",
   "metadata": {},
   "source": [
    "### But the below NOT Working\n"
   ]
  },
  {
   "cell_type": "code",
   "execution_count": null,
   "id": "c611d4e4",
   "metadata": {},
   "outputs": [],
   "source": [
    "def CostPerImp(app):\n",
    "    app.CPM()\n",
    "    "
   ]
  },
  {
   "cell_type": "code",
   "execution_count": 33,
   "id": "87bbbe43",
   "metadata": {},
   "outputs": [
    {
     "ename": "NameError",
     "evalue": "name 'app' is not defined",
     "output_type": "error",
     "traceback": [
      "\u001b[1;31m---------------------------------------------------------------------------\u001b[0m",
      "\u001b[1;31mNameError\u001b[0m                                 Traceback (most recent call last)",
      "\u001b[1;32m<ipython-input-33-04a1bd8bc96a>\u001b[0m in \u001b[0;36m<module>\u001b[1;34m\u001b[0m\n\u001b[1;32m----> 1\u001b[1;33m \u001b[0mapp\u001b[0m\u001b[1;33m(\u001b[0m\u001b[0mG\u001b[0m\u001b[1;33m)\u001b[0m\u001b[1;33m\u001b[0m\u001b[1;33m\u001b[0m\u001b[0m\n\u001b[0m",
      "\u001b[1;31mNameError\u001b[0m: name 'app' is not defined"
     ]
    }
   ],
   "source": [
    "app(G)"
   ]
  },
  {
   "cell_type": "markdown",
   "id": "7c214508",
   "metadata": {},
   "source": [
    "##### 2) Now the same problem with inheritance & polymorphism method"
   ]
  },
  {
   "cell_type": "code",
   "execution_count": 3,
   "id": "2290f0ce",
   "metadata": {},
   "outputs": [],
   "source": [
    "class CPM:\n",
    "    def __init__(self, spends,num_imp):\n",
    "        self.spends=spends\n",
    "        self.num_imp=num_imp\n",
    "    def CostPerImpression(self):\n",
    "        CPM=self.spends/self.num_imp*1000\n",
    "        return CPM\n",
    "    def Cost_Per_Impression(self):\n",
    "        return 'This is cost per impression for Digital: '\n",
    "               \n",
    "    \n",
    "        \n",
    "class facebook(CPM):\n",
    "    def Cost_Per_Impression(self):\n",
    "        return 'This is cost per impression for FB: '\n",
    "        \n",
    "class Google(CPM):\n",
    "    def Cost_Per_Impression(self):\n",
    "        return 'This is cost per impression for Google: '\n",
    "                "
   ]
  },
  {
   "cell_type": "code",
   "execution_count": 4,
   "id": "16adeee9",
   "metadata": {},
   "outputs": [],
   "source": [
    "F=facebook(100000,250)"
   ]
  },
  {
   "cell_type": "code",
   "execution_count": 5,
   "id": "a1505368",
   "metadata": {},
   "outputs": [
    {
     "name": "stdout",
     "output_type": "stream",
     "text": [
      "This is cost per impression for FB:  400000.0\n"
     ]
    }
   ],
   "source": [
    "print(F.Cost_Per_Impression(),F.CostPerImpression())"
   ]
  },
  {
   "cell_type": "markdown",
   "id": "34d092b9",
   "metadata": {},
   "source": [
    "#### 3) Creating custom error messages in super class Exception.\n",
    "\n",
    "#### I want to raise Zero Spend or Zero Impression error if any or both denominator and nemerator are 0, i.e., Spends <=0and num of impressions <=0\n",
    "\n",
    "#### I have been able to do it, but not happy with it,\n",
    "\n",
    "### Is there a way where I can define the conditions in error class itself and then call in CPM class?\n"
   ]
  },
  {
   "cell_type": "code",
   "execution_count": 8,
   "id": "81384286",
   "metadata": {},
   "outputs": [],
   "source": [
    "class Zero_spned(Exception):\n",
    "    def __init__(self,msg):\n",
    "        self.msg=msg\n",
    "        \n",
    "class Zero_imp(Exception):\n",
    "    def __init__(self,msg):\n",
    "        self.msg=msg\n",
    "        \n",
    "    "
   ]
  },
  {
   "cell_type": "code",
   "execution_count": 7,
   "id": "cdf4b971",
   "metadata": {},
   "outputs": [],
   "source": [
    "class CPM:\n",
    "    def __init__(self, spends,num_imp):\n",
    "        self.spends=spends\n",
    "        self.num_imp=num_imp\n",
    "    \n",
    "    def CostPerImpression(self):\n",
    "        try:\n",
    "            if self.spends<=0 :\n",
    "                raise Zero_spned ('spends can not be zero or negative')\n",
    "                \n",
    "            elif self.num_imp<=0 :\n",
    "                raise Zero_spned ('imp can not be zero or negative')\n",
    "        except Zero_spned as msg:\n",
    "            print(msg)\n",
    "        except Zero_imp as msg:\n",
    "            print(msg)\n",
    "        \n",
    "        else:\n",
    "            CPU=self.spends/self.num_imp*1000\n",
    "            return CPU\n",
    "        \n",
    "        \n",
    "        \n",
    "class facebook(CPM):\n",
    "    def Cost_Per_Impression(self):\n",
    "        return 'This is cost per impression for FB: '\n",
    "        \n",
    "class Google(CPM):\n",
    "    def Cost_Per_Impression(self):\n",
    "        return 'This is cost per impression for Google: '\n",
    "                "
   ]
  },
  {
   "cell_type": "code",
   "execution_count": 10,
   "id": "dc15f615",
   "metadata": {},
   "outputs": [
    {
     "name": "stdout",
     "output_type": "stream",
     "text": [
      "imp can not be zero or negative\n"
     ]
    }
   ],
   "source": [
    "F=facebook(1000,0)\n",
    "F.CostPerImpression()"
   ]
  },
  {
   "cell_type": "code",
   "execution_count": 12,
   "id": "1617ce58",
   "metadata": {},
   "outputs": [
    {
     "name": "stdout",
     "output_type": "stream",
     "text": [
      "spends can not be zero or negative\n"
     ]
    }
   ],
   "source": [
    "G=Google(0,5000)\n",
    "G.CostPerImpression()"
   ]
  },
  {
   "cell_type": "markdown",
   "id": "53cecdba",
   "metadata": {},
   "source": [
    "#### 4) Create Multiple Inheritance\n",
    "\n",
    "### The below code is Not Working, please help \n"
   ]
  },
  {
   "cell_type": "code",
   "execution_count": 13,
   "id": "354eaedc",
   "metadata": {},
   "outputs": [],
   "source": [
    "#Child classes are combination of Multple parent classes, \n",
    "\n",
    "#Parent\n",
    "class CPL:\n",
    "    def __init__(self, spends, num_leads):\n",
    "        self.spends=spends\n",
    "        self.num_leads=num_leads\n",
    "        \n",
    "    def CostPerLead(self):\n",
    "        result=self.spends/self.num_leads\n",
    "        \n",
    "class CPV:\n",
    "    def __init__(self, spendsV, num_view):\n",
    "        self.spendsV=spendsV\n",
    "        self.num_view=num_view\n",
    "        \n",
    "    def CostPerView(self):\n",
    "        result=self.spendsV/self.num_view   \n",
    "    \n",
    "class CPM:\n",
    "    def __init__(self, spendsM, num_imp):\n",
    "        self.spendsM=spendsM\n",
    "        self.num_views=num_imp\n",
    "        \n",
    "    def CostPerImpression(self):\n",
    "        result=self.spendsM/self.num_imp*1000   \n",
    "        \n",
    "#Child\n",
    "class Facebook(CPL,CPV,CPM):\n",
    "    def __init__(self, *args, **kwargs):\n",
    "        CPL.__init__(self,*args)\n",
    "        CPV.__init__(self,**kwargs)\n",
    "        CPM.__init__(self,**kwargs)\n",
    "        self.Facebook=Facebook\n",
    "\n",
    "        "
   ]
  },
  {
   "cell_type": "code",
   "execution_count": 14,
   "id": "71fb5261",
   "metadata": {},
   "outputs": [
    {
     "ename": "TypeError",
     "evalue": "__init__() got an unexpected keyword argument 'spendsM'",
     "output_type": "error",
     "traceback": [
      "\u001b[1;31m---------------------------------------------------------------------------\u001b[0m",
      "\u001b[1;31mTypeError\u001b[0m                                 Traceback (most recent call last)",
      "\u001b[1;32m<ipython-input-14-4b13c6bd1885>\u001b[0m in \u001b[0;36m<module>\u001b[1;34m\u001b[0m\n\u001b[1;32m----> 1\u001b[1;33m \u001b[0mf\u001b[0m\u001b[1;33m=\u001b[0m\u001b[0mFacebook\u001b[0m\u001b[1;33m(\u001b[0m\u001b[1;36m10000\u001b[0m\u001b[1;33m,\u001b[0m\u001b[1;36m100\u001b[0m\u001b[1;33m,\u001b[0m\u001b[0mspendsV\u001b[0m\u001b[1;33m=\u001b[0m\u001b[1;36m10000\u001b[0m\u001b[1;33m,\u001b[0m\u001b[0mnum_view\u001b[0m\u001b[1;33m=\u001b[0m\u001b[1;36m1000\u001b[0m\u001b[1;33m,\u001b[0m \u001b[0mspendsM\u001b[0m\u001b[1;33m=\u001b[0m\u001b[1;36m10000\u001b[0m\u001b[1;33m,\u001b[0m\u001b[0mnum_imp\u001b[0m\u001b[1;33m=\u001b[0m\u001b[1;36m2000\u001b[0m\u001b[1;33m)\u001b[0m\u001b[1;33m\u001b[0m\u001b[1;33m\u001b[0m\u001b[0m\n\u001b[0m",
      "\u001b[1;32m<ipython-input-13-c8e5b644f0df>\u001b[0m in \u001b[0;36m__init__\u001b[1;34m(self, *args, **kwargs)\u001b[0m\n\u001b[0;32m     30\u001b[0m     \u001b[1;32mdef\u001b[0m \u001b[0m__init__\u001b[0m\u001b[1;33m(\u001b[0m\u001b[0mself\u001b[0m\u001b[1;33m,\u001b[0m \u001b[1;33m*\u001b[0m\u001b[0margs\u001b[0m\u001b[1;33m,\u001b[0m \u001b[1;33m**\u001b[0m\u001b[0mkwargs\u001b[0m\u001b[1;33m)\u001b[0m\u001b[1;33m:\u001b[0m\u001b[1;33m\u001b[0m\u001b[1;33m\u001b[0m\u001b[0m\n\u001b[0;32m     31\u001b[0m         \u001b[0mCPL\u001b[0m\u001b[1;33m.\u001b[0m\u001b[0m__init__\u001b[0m\u001b[1;33m(\u001b[0m\u001b[0mself\u001b[0m\u001b[1;33m,\u001b[0m\u001b[1;33m*\u001b[0m\u001b[0margs\u001b[0m\u001b[1;33m)\u001b[0m\u001b[1;33m\u001b[0m\u001b[1;33m\u001b[0m\u001b[0m\n\u001b[1;32m---> 32\u001b[1;33m         \u001b[0mCPV\u001b[0m\u001b[1;33m.\u001b[0m\u001b[0m__init__\u001b[0m\u001b[1;33m(\u001b[0m\u001b[0mself\u001b[0m\u001b[1;33m,\u001b[0m\u001b[1;33m**\u001b[0m\u001b[0mkwargs\u001b[0m\u001b[1;33m)\u001b[0m\u001b[1;33m\u001b[0m\u001b[1;33m\u001b[0m\u001b[0m\n\u001b[0m\u001b[0;32m     33\u001b[0m         \u001b[0mCPM\u001b[0m\u001b[1;33m.\u001b[0m\u001b[0m__init__\u001b[0m\u001b[1;33m(\u001b[0m\u001b[0mself\u001b[0m\u001b[1;33m,\u001b[0m\u001b[1;33m**\u001b[0m\u001b[0mkwargs\u001b[0m\u001b[1;33m)\u001b[0m\u001b[1;33m\u001b[0m\u001b[1;33m\u001b[0m\u001b[0m\n\u001b[0;32m     34\u001b[0m         \u001b[0mself\u001b[0m\u001b[1;33m.\u001b[0m\u001b[0mFacebook\u001b[0m\u001b[1;33m=\u001b[0m\u001b[0mFacebook\u001b[0m\u001b[1;33m\u001b[0m\u001b[1;33m\u001b[0m\u001b[0m\n",
      "\u001b[1;31mTypeError\u001b[0m: __init__() got an unexpected keyword argument 'spendsM'"
     ]
    }
   ],
   "source": [
    "f=Facebook(10000,100,spendsV=10000,num_view=1000, spendsM=10000,num_imp=2000)"
   ]
  },
  {
   "cell_type": "markdown",
   "id": "c494c366",
   "metadata": {},
   "source": [
    "##### 5) Create Multilevel\n",
    "##### measuring cost per delivery (CPU) for each digital platform for a campaign"
   ]
  },
  {
   "cell_type": "code",
   "execution_count": 1,
   "id": "a1afbc3f",
   "metadata": {},
   "outputs": [],
   "source": [
    "class Digital:\n",
    "    def __init__(self, spends, deliveries):\n",
    "        self.spends=spends\n",
    "        self.deliveries=deliveries\n",
    "        \n",
    "    def CPU(self):\n",
    "        result=self.spends/self.deliveries\n",
    "        return result\n",
    "class socialmedia(Digital):\n",
    "    def socialmedia_cpu(self):\n",
    "        return'Cost Per Unit for entire Social Media platform: '\n",
    "    \n",
    "class facebook(socialmedia):\n",
    "    def facebook_CPU(self):\n",
    "        return 'Cost Per Unit for entire facebook platform: ' \n",
    "        \n",
    "class insta(facebook):\n",
    "    def instaCPU(facebook):\n",
    "        return 'Cost Per Unit for entire insta platform: '     \n",
    "        "
   ]
  },
  {
   "cell_type": "code",
   "execution_count": 4,
   "id": "d118570f",
   "metadata": {},
   "outputs": [
    {
     "name": "stdout",
     "output_type": "stream",
     "text": [
      "Cost Per Unit for entire facebook platform:  4.0\n"
     ]
    }
   ],
   "source": [
    "campaign1_insta=insta(1000,250)\n",
    "print(campaign1_insta.facebook_CPU(),campaign1_insta.CPU())"
   ]
  },
  {
   "cell_type": "markdown",
   "id": "0a420c6b",
   "metadata": {},
   "source": [
    "##### 6) Abstraction"
   ]
  },
  {
   "cell_type": "code",
   "execution_count": 5,
   "id": "beaebea5",
   "metadata": {},
   "outputs": [],
   "source": [
    "\n",
    "class Media_Audit:\n",
    "    def TV_Audit(self):\n",
    "        pass\n",
    "    def Digital_Audit(self):\n",
    "        pass\n",
    "    def Print_Audit(self):\n",
    "        pass\n",
    "    def Radio_Audit(self):\n",
    "        pass\n",
    "    def Outdoor_Audit(self):\n",
    "        pass"
   ]
  },
  {
   "cell_type": "code",
   "execution_count": 6,
   "id": "f89e88d7",
   "metadata": {},
   "outputs": [],
   "source": [
    "class Manager1(Media_Audit):\n",
    "    pass"
   ]
  },
  {
   "cell_type": "markdown",
   "id": "38a8a6e1",
   "metadata": {},
   "source": [
    "##### 7) Overloading"
   ]
  },
  {
   "cell_type": "code",
   "execution_count": 7,
   "id": "c867e835",
   "metadata": {},
   "outputs": [],
   "source": [
    "#Overloading\n",
    "class CPL:\n",
    "    def __init__(self, spends, deliveries):\n",
    "        self.spends=spends\n",
    "        self.deliveries=deliveries\n",
    "    def CostPerLead(self):\n",
    "        result=self.spends/self.deliveries\n",
    "    def __str__(self):\n",
    "        return 'This is Cost Per Lead calculation'   ##__str__ is overloading custom msg\n",
    "        "
   ]
  },
  {
   "cell_type": "code",
   "execution_count": 9,
   "id": "40cba2ce",
   "metadata": {},
   "outputs": [
    {
     "name": "stdout",
     "output_type": "stream",
     "text": [
      "This is Cost Per Lead calculation\n"
     ]
    }
   ],
   "source": [
    "t=CPL(1000,200)\n",
    "print(t)"
   ]
  },
  {
   "cell_type": "markdown",
   "id": "17fabd84",
   "metadata": {},
   "source": [
    "##### Overridding"
   ]
  },
  {
   "cell_type": "code",
   "execution_count": 13,
   "id": "fa1bfc71",
   "metadata": {},
   "outputs": [],
   "source": [
    "#Overridding- Inherit and redefine functions of parent class it\n",
    "\n",
    "class CPM:\n",
    "    def __init__(self, spends,num_imp):\n",
    "        self.spends=spends\n",
    "        self.num_imp=num_imp\n",
    "    def CostPerImpression(self):\n",
    "        CPM=self.spends/self.num_imp*1000\n",
    "        return CPM\n",
    "    def Cost_Per_Impression(self):\n",
    "        return 'This is cost per impression for Digital: '\n",
    "               \n",
    "    \n",
    "        \n",
    "class facebook(CPM):                                   #facebook inherits from CPM class, but overrides\n",
    "                                                       #parent function Cost_Per_Impression\n",
    "    def Cost_Per_Impression(self):\n",
    "        return 'This is cost per impression for FB: '\n",
    "        \n",
    "class Google(CPM):\n",
    "    def Cost_Per_Impression(self):\n",
    "        return 'This is cost per impression for Google: '\n"
   ]
  },
  {
   "cell_type": "code",
   "execution_count": 14,
   "id": "a56cb675",
   "metadata": {},
   "outputs": [
    {
     "data": {
      "text/plain": [
       "'This is cost per impression for FB: '"
      ]
     },
     "execution_count": 14,
     "metadata": {},
     "output_type": "execute_result"
    }
   ],
   "source": [
    "f=facebook(10000,250)\n",
    "f.Cost_Per_Impression()"
   ]
  },
  {
   "cell_type": "code",
   "execution_count": null,
   "id": "a33ed508",
   "metadata": {},
   "outputs": [],
   "source": []
  }
 ],
 "metadata": {
  "kernelspec": {
   "display_name": "Python 3",
   "language": "python",
   "name": "python3"
  },
  "language_info": {
   "codemirror_mode": {
    "name": "ipython",
    "version": 3
   },
   "file_extension": ".py",
   "mimetype": "text/x-python",
   "name": "python",
   "nbconvert_exporter": "python",
   "pygments_lexer": "ipython3",
   "version": "3.8.8"
  }
 },
 "nbformat": 4,
 "nbformat_minor": 5
}
